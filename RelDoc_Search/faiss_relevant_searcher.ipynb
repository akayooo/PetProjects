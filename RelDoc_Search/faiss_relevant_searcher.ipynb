{
 "cells": [
  {
   "cell_type": "code",
   "execution_count": 1,
   "metadata": {},
   "outputs": [
    {
     "name": "stderr",
     "output_type": "stream",
     "text": [
      "/home/akayo/Рабочий стол/PetProjects/venv/lib/python3.12/site-packages/tqdm/auto.py:21: TqdmWarning: IProgress not found. Please update jupyter and ipywidgets. See https://ipywidgets.readthedocs.io/en/stable/user_install.html\n",
      "  from .autonotebook import tqdm as notebook_tqdm\n"
     ]
    }
   ],
   "source": [
    "import faiss\n",
    "import numpy as np \n",
    "from sentence_transformers import SentenceTransformer\n",
    "import re"
   ]
  },
  {
   "cell_type": "code",
   "execution_count": 2,
   "metadata": {},
   "outputs": [],
   "source": [
    "def chunk_seperator(doc: str, max_len=80):\n",
    "    # Удаляем нежелательные символы (#, *)\n",
    "    doc = re.sub(r'[\\#\\*]', '', doc)\n",
    "    \n",
    "    # Разбиваем документ на слова\n",
    "    words = doc.split()\n",
    "    \n",
    "    chunks = []\n",
    "    current_chunk = []\n",
    "    word_count = 0\n",
    "    \n",
    "    # Проходим по каждому слову\n",
    "    for word in words:\n",
    "        # Если текущее количество слов меньше max_len, добавляем слово в чанк\n",
    "        if word_count < max_len:\n",
    "            current_chunk.append(word)\n",
    "            word_count += 1\n",
    "        else:\n",
    "            # Если достигли максимума, сохраняем текущий чанк и начинаем новый\n",
    "            chunks.append(' '.join(current_chunk))\n",
    "            current_chunk = [word]  # Начинаем новый чанк с текущего слова\n",
    "            word_count = 1  # Сбрасываем счетчик слов\n",
    "    \n",
    "    # Добавляем последний чанк, если он не пустой\n",
    "    if current_chunk:\n",
    "        chunks.append(' '.join(current_chunk))\n",
    "    \n",
    "    return chunks"
   ]
  },
  {
   "cell_type": "code",
   "execution_count": 3,
   "metadata": {},
   "outputs": [],
   "source": [
    "with open('youtube.txt', 'r', encoding='utf-8') as file:\n",
    "    youtube_data = file.read()\n",
    "\n",
    "data = chunk_seperator(youtube_data, max_len=40)"
   ]
  },
  {
   "cell_type": "code",
   "execution_count": 4,
   "metadata": {},
   "outputs": [],
   "source": [
    "model = SentenceTransformer('intfloat/e5-base')\n",
    "\n",
    "doc_embeddings = model.encode(data, normalize_embeddings=True)\n"
   ]
  },
  {
   "cell_type": "code",
   "execution_count": 5,
   "metadata": {},
   "outputs": [],
   "source": [
    "dimension = doc_embeddings.shape[1]\n",
    "index = faiss.IndexFlatIP(dimension)\n",
    "index.add(doc_embeddings)"
   ]
  },
  {
   "cell_type": "code",
   "execution_count": 6,
   "metadata": {},
   "outputs": [],
   "source": [
    "query = 'Основые функции Youtube'\n",
    "query_embedding = model.encode(query, normalize_embeddings=True)\n",
    "query_embedding = np.expand_dims(query_embedding, axis=0)"
   ]
  },
  {
   "cell_type": "code",
   "execution_count": 7,
   "metadata": {},
   "outputs": [],
   "source": [
    "k = 2\n",
    "distances, indices = index.search(query_embedding, k)"
   ]
  },
  {
   "cell_type": "code",
   "execution_count": 8,
   "metadata": {},
   "outputs": [
    {
     "name": "stdout",
     "output_type": "stream",
     "text": [
      "Релевантный документ 1: знаний о YouTube. Вы можете использовать её для изучения платформы или создания документации. Если нужно больше информации по конкретной теме, дайте знать! (дистанция: 0.8943448066711426)\n",
      "Релевантный документ 2: Ах, я понял! Вы хотите текстовую базу знаний о YouTube — информацию о платформе, её функциях, терминах и особенностях. Вот подробная информация: --- База знаний о YouTube Что такое YouTube? YouTube — это крупнейшая в мире платформа для просмотра, загрузки (дистанция: 0.8880485892295837)\n"
     ]
    }
   ],
   "source": [
    "for i, idx in enumerate(indices[0]):\n",
    "    print(f\"Релевантный документ {i+1}: {data[idx]} (дистанция: {distances[0][i]})\")"
   ]
  }
 ],
 "metadata": {
  "kernelspec": {
   "display_name": "venv",
   "language": "python",
   "name": "python3"
  },
  "language_info": {
   "codemirror_mode": {
    "name": "ipython",
    "version": 3
   },
   "file_extension": ".py",
   "mimetype": "text/x-python",
   "name": "python",
   "nbconvert_exporter": "python",
   "pygments_lexer": "ipython3",
   "version": "3.12.7"
  }
 },
 "nbformat": 4,
 "nbformat_minor": 2
}
